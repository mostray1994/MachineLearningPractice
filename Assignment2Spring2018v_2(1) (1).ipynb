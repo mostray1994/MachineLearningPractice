{
 "cells": [
  {
   "cell_type": "markdown",
   "metadata": {},
   "source": [
    "<div style=\"text-align: center;\">\n",
    "<h2>INFSCI 2915 Foundations- Machine Learning - Spring 2018 </h2>\n",
    "<h1 style=\"font-size: 250%;\">Assignment #2</h1>\n",
    "<h3>Issued Monday, 2/26/2018; Due Monday, 11:59pm, 3/12/2018</h3>\n",
    "<h3>Total points: 100 </h3>\n",
    "</div>"
   ]
  },
  {
   "cell_type": "code",
   "execution_count": 1,
   "metadata": {
    "collapsed": true
   },
   "outputs": [],
   "source": [
    "# Type in your information in the double quotes\n",
    "firstName = \"\"\n",
    "lastName = \"\"\n",
    "pittID = \"\""
   ]
  },
  {
   "cell_type": "markdown",
   "metadata": {},
   "source": [
    "<h3>  Problem #1. Train Test Split [20 points]</h3> \n",
    "In this part, you should download **\"Iris dataset\"**. <br>\n",
    "Use a code below to download the  dataset: "
   ]
  },
  {
   "cell_type": "code",
   "execution_count": 2,
   "metadata": {},
   "outputs": [
    {
     "name": "stdout",
     "output_type": "stream",
     "text": [
      "dict_keys(['data', 'target', 'target_names', 'DESCR', 'feature_names'])\n"
     ]
    }
   ],
   "source": [
    "from sklearn.datasets import load_iris\n",
    "dataset=load_iris()\n",
    "print(dataset.keys())"
   ]
  },
  {
   "cell_type": "markdown",
   "metadata": {},
   "source": [
    "<h4> Problem #1-1. </h4> Split iris dataset into training and test datasets. (use train_test_split function and random_state=0)\n",
    "\n",
    "- Report the shape of each (training and test) datasets. What is the proportion of each set? "
   ]
  },
  {
   "cell_type": "code",
   "execution_count": 3,
   "metadata": {
    "collapsed": true
   },
   "outputs": [],
   "source": [
    "#Write your narrative answer here"
   ]
  },
  {
   "cell_type": "markdown",
   "metadata": {},
   "source": [
    "<h4> Problem #1-2. </h4>  Split iris dataset into training and test datasets. Make the proportion of training dataset 60% (use train_test_split function and random_state=0)\n",
    " \n",
    "\n",
    "- Report the shape of each (training and test) datasets."
   ]
  },
  {
   "cell_type": "code",
   "execution_count": 5,
   "metadata": {
    "collapsed": true
   },
   "outputs": [],
   "source": [
    "#Write your narrative answer here"
   ]
  },
  {
   "cell_type": "markdown",
   "metadata": {},
   "source": [
    "<h4> Problem #1-3. </h4>  Split iris dataset into training and test datasets. Make the proportion of test dataset 33.3% (use train_test_split function and random_state=0)\n",
    "  \n",
    "\n",
    "- Report the shape of each (training and test) dataset."
   ]
  },
  {
   "cell_type": "code",
   "execution_count": 7,
   "metadata": {
    "collapsed": true
   },
   "outputs": [],
   "source": [
    "#Write your narrative answer here"
   ]
  },
  {
   "cell_type": "markdown",
   "metadata": {},
   "source": [
    "<h4> Problem #1-4. Random State </h4> \n",
    "Split iris dataset into training and test datasets, Use different Random State values (0,  10, 253, 1000, 0 and 10) \n",
    "\n",
    "- Analyze the shape and values of the train and test datasets  generated from different Random State values (you can use descriptive statistics) \n",
    "\n",
    "- What happens if you do not specify Random State? \n",
    "\n",
    "- What is a purpose of using Random State? "
   ]
  },
  {
   "cell_type": "code",
   "execution_count": 9,
   "metadata": {
    "collapsed": true
   },
   "outputs": [],
   "source": [
    "#Write your narrative answer here"
   ]
  },
  {
   "cell_type": "markdown",
   "metadata": {},
   "source": [
    "<h4> Problem #1-5. Optional (Extra Points) </h4> \n",
    "\n",
    "\n",
    "Write a python function that takes the dataset X  (matrix) and Y (numpy array) as an input and returns two non-overlapping datasets: the training and testing data, such that every entry to training set should be selected randomly. The proportion of the training and testing data should be 75%(training)/25%(test). Test your function using the synthetic dataset below. "
   ]
  },
  {
   "cell_type": "code",
   "execution_count": 3,
   "metadata": {},
   "outputs": [
    {
     "data": {
      "text/html": [
       "<div>\n",
       "<style scoped>\n",
       "    .dataframe tbody tr th:only-of-type {\n",
       "        vertical-align: middle;\n",
       "    }\n",
       "\n",
       "    .dataframe tbody tr th {\n",
       "        vertical-align: top;\n",
       "    }\n",
       "\n",
       "    .dataframe thead th {\n",
       "        text-align: right;\n",
       "    }\n",
       "</style>\n",
       "<table border=\"1\" class=\"dataframe\">\n",
       "  <thead>\n",
       "    <tr style=\"text-align: right;\">\n",
       "      <th></th>\n",
       "      <th>X1</th>\n",
       "      <th>X2</th>\n",
       "      <th>X3</th>\n",
       "      <th>X4</th>\n",
       "      <th>Y</th>\n",
       "    </tr>\n",
       "  </thead>\n",
       "  <tbody>\n",
       "    <tr>\n",
       "      <th>0</th>\n",
       "      <td>0</td>\n",
       "      <td>0</td>\n",
       "      <td>0</td>\n",
       "      <td>0</td>\n",
       "      <td>0</td>\n",
       "    </tr>\n",
       "    <tr>\n",
       "      <th>1</th>\n",
       "      <td>1</td>\n",
       "      <td>10</td>\n",
       "      <td>100</td>\n",
       "      <td>1000</td>\n",
       "      <td>0</td>\n",
       "    </tr>\n",
       "    <tr>\n",
       "      <th>2</th>\n",
       "      <td>2</td>\n",
       "      <td>20</td>\n",
       "      <td>200</td>\n",
       "      <td>2000</td>\n",
       "      <td>0</td>\n",
       "    </tr>\n",
       "    <tr>\n",
       "      <th>3</th>\n",
       "      <td>3</td>\n",
       "      <td>30</td>\n",
       "      <td>300</td>\n",
       "      <td>3000</td>\n",
       "      <td>0</td>\n",
       "    </tr>\n",
       "    <tr>\n",
       "      <th>4</th>\n",
       "      <td>4</td>\n",
       "      <td>40</td>\n",
       "      <td>400</td>\n",
       "      <td>4000</td>\n",
       "      <td>0</td>\n",
       "    </tr>\n",
       "    <tr>\n",
       "      <th>5</th>\n",
       "      <td>5</td>\n",
       "      <td>50</td>\n",
       "      <td>500</td>\n",
       "      <td>5000</td>\n",
       "      <td>0</td>\n",
       "    </tr>\n",
       "    <tr>\n",
       "      <th>6</th>\n",
       "      <td>6</td>\n",
       "      <td>60</td>\n",
       "      <td>600</td>\n",
       "      <td>6000</td>\n",
       "      <td>0</td>\n",
       "    </tr>\n",
       "    <tr>\n",
       "      <th>7</th>\n",
       "      <td>7</td>\n",
       "      <td>70</td>\n",
       "      <td>700</td>\n",
       "      <td>7000</td>\n",
       "      <td>0</td>\n",
       "    </tr>\n",
       "    <tr>\n",
       "      <th>8</th>\n",
       "      <td>8</td>\n",
       "      <td>80</td>\n",
       "      <td>800</td>\n",
       "      <td>8000</td>\n",
       "      <td>0</td>\n",
       "    </tr>\n",
       "    <tr>\n",
       "      <th>9</th>\n",
       "      <td>9</td>\n",
       "      <td>90</td>\n",
       "      <td>900</td>\n",
       "      <td>9000</td>\n",
       "      <td>0</td>\n",
       "    </tr>\n",
       "  </tbody>\n",
       "</table>\n",
       "</div>"
      ],
      "text/plain": [
       "   X1  X2   X3    X4  Y\n",
       "0   0   0    0     0  0\n",
       "1   1  10  100  1000  0\n",
       "2   2  20  200  2000  0\n",
       "3   3  30  300  3000  0\n",
       "4   4  40  400  4000  0\n",
       "5   5  50  500  5000  0\n",
       "6   6  60  600  6000  0\n",
       "7   7  70  700  7000  0\n",
       "8   8  80  800  8000  0\n",
       "9   9  90  900  9000  0"
      ]
     },
     "execution_count": 3,
     "metadata": {},
     "output_type": "execute_result"
    }
   ],
   "source": [
    "import numpy as np \n",
    "import pandas as pd\n",
    "X = np.stack((np.arange(100), 10*np.array(np.arange(100)),100*np.array(np.arange(100)),1000*np.array(np.arange(100))), axis=-1)\n",
    "Y = np.random.randint(2, size=100)\n",
    "df = pd.DataFrame(np.concatenate((X,Y[:,None]),axis=1), columns = (\"X1\",\"X2\",\"X3\",\"X4\", \"Y\"))\n",
    "df.head(10)"
   ]
  },
  {
   "cell_type": "code",
   "execution_count": 11,
   "metadata": {
    "collapsed": true
   },
   "outputs": [],
   "source": [
    "#Write your narrative answer here"
   ]
  },
  {
   "cell_type": "markdown",
   "metadata": {},
   "source": [
    "<h3> Problem #2. Feature Selection  [10 points] </h3>  <br>\n",
    "In this part, you should download and analyze **\"Boston House Prices\" ** dataset **with only 4 features**. <br>\n",
    "(use code below to download  and change dataset)\n",
    "\n",
    "- Find the best two features using forward and backward selection to the Boston House Prices\" dataset with only 4 features ('CHAS','RM','TAX', 'LSTAT'), use a linear regression model to find a best subset of features.\n",
    "- Comment your choice "
   ]
  },
  {
   "cell_type": "code",
   "execution_count": 2,
   "metadata": {
    "collapsed": true
   },
   "outputs": [],
   "source": [
    "from sklearn.model_selection import train_test_split\n",
    "from sklearn.datasets import load_boston\n",
    "dataset = load_boston()\n",
    "import numpy as np \n",
    "import pandas as pd\n",
    "#print(dataset.keys())\n",
    "# Data preprocessing\n",
    "new_data= pd.DataFrame(dataset.data, columns=dataset.feature_names)[['CHAS','RM','TAX', 'LSTAT']]\n",
    "\n",
    "X_train,X_test,Y_train,Y_test=train_test_split(new_data.values,dataset.target,random_state=0)"
   ]
  },
  {
   "cell_type": "code",
   "execution_count": 12,
   "metadata": {
    "collapsed": true
   },
   "outputs": [],
   "source": [
    "#Write your narrative answer here"
   ]
  },
  {
   "cell_type": "markdown",
   "metadata": {},
   "source": [
    "<h3>  Problem #3. Qualitative Variables  [10 points] </h3>\n",
    "\n",
    "In this part, you should download and analyze **\"Boston House Prices\"** dataset. <br>\n",
    "Use a code below to download the  dataset: "
   ]
  },
  {
   "cell_type": "code",
   "execution_count": 14,
   "metadata": {},
   "outputs": [
    {
     "name": "stdout",
     "output_type": "stream",
     "text": [
      "dict_keys(['data', 'target', 'feature_names', 'DESCR'])\n"
     ]
    }
   ],
   "source": [
    "from sklearn.datasets import load_boston\n",
    "dataset = load_boston()\n",
    "print(dataset.keys())"
   ]
  },
  {
   "cell_type": "markdown",
   "metadata": {},
   "source": [
    "<h4> Problem #3-1. </h4> Follow steps to answer questions.\n",
    "> *Use train_test_split() with the option \"random_state=0\".\n",
    "\n",
    "- Identify qualitative feature in the dataset (a feature with dummy variable). What is an abbreviation for the qualitative feature? (What is a definition of that  abbreviation ?)\n",
    "\n",
    "- Fit a linear regression model with qualitative variable feature only. Report intercept and coefficient.  \n",
    "\n",
    "- What can you infer about the qualitative feature from the coefficient? (Hint check lecture:  \"Regression with Qualitative Features\")"
   ]
  },
  {
   "cell_type": "code",
   "execution_count": 15,
   "metadata": {
    "collapsed": true
   },
   "outputs": [],
   "source": [
    "#Write your narrative answer here"
   ]
  },
  {
   "cell_type": "markdown",
   "metadata": {},
   "source": [
    "<h3>  Problem #4. Regularization [30 points]  </h3>"
   ]
  },
  {
   "cell_type": "markdown",
   "metadata": {},
   "source": [
    "<h4> Problem #4-1. </h4> Answer the following questions \n",
    "\n",
    "- What is the objective using regularization?\n",
    "- Do you need to use regularization if you have only 1 feature (B0 and B1)?"
   ]
  },
  {
   "cell_type": "code",
   "execution_count": 17,
   "metadata": {
    "collapsed": true
   },
   "outputs": [],
   "source": [
    "#Write your narrative answer here"
   ]
  },
  {
   "cell_type": "markdown",
   "metadata": {},
   "source": [
    "<h4> Problem #4-2.Ridge Regression </h4>  <br>\n",
    "In this part, you should download and analyze **\"Boston House Prices\"** dataset. <br>\n",
    "Use a code below to download the  dataset: "
   ]
  },
  {
   "cell_type": "code",
   "execution_count": 23,
   "metadata": {},
   "outputs": [
    {
     "name": "stdout",
     "output_type": "stream",
     "text": [
      "dict_keys(['data', 'target', 'feature_names', 'DESCR'])\n"
     ]
    }
   ],
   "source": [
    "dataset = load_boston()\n",
    "print(dataset.keys())"
   ]
  },
  {
   "cell_type": "markdown",
   "metadata": {},
   "source": [
    "Follow steps to answer questions.\n",
    "- Fit a linear regression model with all features and report the estimated coefficients for the fitted model (do not just print summary, make a table with feature names and estimated coefficients) \n",
    "-  Fit a ridge regression model with λ = 1. Report the estimated coefficients for the fitted model. \n",
    "-  Fit a ridge regression model with λ = 0. Report the estimated coefficients for the fitted model. \n",
    "- Compare estimated coefficients of ridge regression models with λ = 1 and λ = 0  and linear regression model. (you can use descriptive statistics)\n",
    "- What did you observe from this comparison? \n",
    "- Comment your observation."
   ]
  },
  {
   "cell_type": "code",
   "execution_count": 19,
   "metadata": {
    "collapsed": true
   },
   "outputs": [],
   "source": [
    "#Write your narrative answer here"
   ]
  },
  {
   "cell_type": "markdown",
   "metadata": {},
   "source": [
    "<h4> Problem #4-3.Ridge Regression (part 2) </h4>  <br>\n",
    "Fit a ridge regression with λ = 5, 10, 50, 100, and 1000. For each value, report the estimated coefficients for the fitted model (do not just print summary, make a DataFrame with feature names and estimated coefficients)\n",
    "- What happens to the coefficients as you increase λ?\n",
    "- What happens to the flexibility of the model as you increase λ?"
   ]
  },
  {
   "cell_type": "code",
   "execution_count": null,
   "metadata": {
    "collapsed": true
   },
   "outputs": [],
   "source": [
    "#Write your narrative answer here"
   ]
  },
  {
   "cell_type": "markdown",
   "metadata": {},
   "source": [
    "<h4> Problem #4-4 Lasso Regression </h4>  <br>\n",
    "In this part, you should download and analyze **\"Boston House Prices\"** dataset. <br>\n"
   ]
  },
  {
   "cell_type": "markdown",
   "metadata": {},
   "source": [
    "Follow steps to answer questions.\n",
    "- Fit a linear regression model with all features and report the estimated coefficients for the fitted model (do not just print summary, make a DataFrame with feature names and estimated coefficients) \n",
    "-  Fit a lasso regression model with λ = 1. Report the estimated coefficients for the fitted model. \n",
    "-  Fit a lasso regression model with λ = 0. Report the estimated coefficients for the fitted model. \n",
    "- Compare estimated coefficients of lasso regression models with λ = 1 and λ = 0, ridge regression models with λ = 1 and λ = 0 and linear regression model. (you can use descriptive statistics)\n",
    "\n",
    "- What did you observe from this comparison? \n",
    "\n",
    "- Comment your observation."
   ]
  },
  {
   "cell_type": "code",
   "execution_count": null,
   "metadata": {
    "collapsed": true
   },
   "outputs": [],
   "source": [
    "#Write your narrative answer here"
   ]
  },
  {
   "cell_type": "markdown",
   "metadata": {},
   "source": [
    "<h4> Problem #4-5.Lasso Regression (part 2) </h4>  <br>\n",
    "Fit a lasso regression with λ = 5, 10, 50, 100, and 1000. For each value, report the estimated coefficients for the fitted model (do not just print summary, make a DataFrmae with feature names and estimated coefficients)\n",
    "- What happens to the coefficients as you increase λ?\n",
    "- What happens to the flexibility of the model as you increase λ?"
   ]
  },
  {
   "cell_type": "code",
   "execution_count": null,
   "metadata": {
    "collapsed": true
   },
   "outputs": [],
   "source": [
    "#Write your narrative answer here"
   ]
  },
  {
   "cell_type": "markdown",
   "metadata": {},
   "source": [
    "\n",
    "<h3>  Problem #5.Logistic Regression [30 points] </h3> "
   ]
  },
  {
   "cell_type": "markdown",
   "metadata": {},
   "source": [
    "<h4> Problem #5-1. </h4>  <br>\n",
    "We fit a logistic regression model to predict the probability that an individual will default on his/her credit card balance. We used the total balance (single feature) to fit the model and got the results shown in the table below."
   ]
  },
  {
   "cell_type": "markdown",
   "metadata": {},
   "source": [
    "|        |Coefficient| Std.error|Z -statistic|P-Value|\n",
    "|:--:|:-------------------------------:|\n",
    "|Intercept|-10.6513|0.3612|-29.5|<0.0001|\n",
    "|balance|0.0055|0.002|24.9|<0.0001|"
   ]
  },
  {
   "cell_type": "markdown",
   "metadata": {},
   "source": [
    "- What is the parametric model used in logistic regression?\n",
    "- What is the probability that an individual with a balance equal to 15000 dollar will default?\n",
    "- What is the probability that an individual with balance equals to 800 dollar will not default?"
   ]
  },
  {
   "cell_type": "code",
   "execution_count": null,
   "metadata": {
    "collapsed": true
   },
   "outputs": [],
   "source": [
    "#Write your narrative answer here"
   ]
  },
  {
   "cell_type": "markdown",
   "metadata": {},
   "source": [
    "<h4> Problem #5-2. </h4>  <br>\n",
    "\n",
    "The coefficients of logistic regression are obtained by maximizing the likelihood function\n",
    "\n",
    "\\begin{array} \\\\\n",
    "l(\\beta) = \\prod_{i:y_{i}=1} P(y_{i} = 1|x)\\prod_{i{}':y_{{i}'}=0} (1-P(y_{{i}'} = 1|x))\n",
    "\\end{array}\n",
    "Show that maximizing the\n",
    "likelihood function is equivalent to minimizing the cost function $J(\\beta)$, such that.\n",
    "\\begin{array} \\\\\n",
    "J(\\beta) = -\\sum [y_{i} log(P(y_{i} = 1|x)) + (1- y_{i})log(1- P(y_{i} = 1|x))]\n",
    "\\end{array}\n",
    "\n",
    "\n",
    "Here $n$ is the number training examples. Mention one possible method for obtaining the\n",
    "optimal coefficients."
   ]
  },
  {
   "cell_type": "code",
   "execution_count": null,
   "metadata": {
    "collapsed": true
   },
   "outputs": [],
   "source": [
    "#Write your narrative answer here"
   ]
  }
 ],
 "metadata": {
  "kernelspec": {
   "display_name": "Python 3",
   "language": "python",
   "name": "python3"
  },
  "language_info": {
   "codemirror_mode": {
    "name": "ipython",
    "version": 3
   },
   "file_extension": ".py",
   "mimetype": "text/x-python",
   "name": "python",
   "nbconvert_exporter": "python",
   "pygments_lexer": "ipython3",
   "version": "3.6.3"
  }
 },
 "nbformat": 4,
 "nbformat_minor": 2
}
