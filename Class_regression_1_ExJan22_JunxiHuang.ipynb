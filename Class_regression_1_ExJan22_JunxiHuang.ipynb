{
 "cells": [
  {
   "cell_type": "markdown",
   "metadata": {},
   "source": [
    "# Exercise: Linear Regression\n",
    "\n",
    "A) Use the advertising dataset, and fit a linear regression model that estimates the Sales from the TV advertising only (single feature). Find the P-value of the TV feature and the 95% confidence interval of the corresponding coefficients.\n",
    "Does the confidence interval include the value of Zero? What does that imply?"
   ]
  },
  {
   "cell_type": "code",
   "execution_count": 3,
   "metadata": {},
   "outputs": [
    {
     "name": "stdout",
     "output_type": "stream",
     "text": [
      "==============================================================================\n",
      "                 coef    std err          t      P>|t|      [0.025      0.975]\n",
      "------------------------------------------------------------------------------\n",
      "Intercept      7.0326      0.458     15.360      0.000       6.130       7.935\n",
      "TV             0.0475      0.003     17.668      0.000       0.042       0.053\n",
      "==============================================================================\n",
      "p-values are: \n",
      " Intercept    1.406300e-35\n",
      "TV           1.467390e-42\n",
      "dtype: float64\n"
     ]
    }
   ],
   "source": [
    "from pandas import read_csv\n",
    "import statsmodels.formula.api as smf\n",
    "AdvertisingData=read_csv('Advertising.csv')\n",
    "model=smf.ols('Sales ~ TV', AdvertisingData)\n",
    "Fitting_results=model.fit()\n",
    "print(Fitting_results.summary().tables[1])\n",
    "print('p-values are: \\n', Fitting_results.pvalues)"
   ]
  },
  {
   "cell_type": "code",
   "execution_count": 16,
   "metadata": {},
   "outputs": [
    {
     "name": "stdout",
     "output_type": "stream",
     "text": [
      "The intercept is:  7.24890928301\n",
      "The coefficient of TV feature is: [ 0.04614341]\n"
     ]
    }
   ],
   "source": [
    "import matplotlib.pyplot as plt\n",
    "import numpy as np\n",
    "from sklearn.model_selection import train_test_split\n",
    "from sklearn.linear_model import LinearRegression\n",
    "from sklearn.metrics import mean_squared_error\n",
    "X = AdvertisingData[[ 'TV']].values\n",
    "Y = AdvertisingData.Sales\n",
    "X_train, X_test, Y_train, Y_test= train_test_split(X, Y, random_state= 0)\n",
    "\n",
    "linreg= LinearRegression().fit(X_train, Y_train)\n",
    "print(\"The intercept is: \", linreg.intercept_)\n",
    "print(\"The coefficient of TV feature is:\",linreg.coef_)"
   ]
  },
  {
   "cell_type": "code",
   "execution_count": 18,
   "metadata": {},
   "outputs": [
    {
     "data": {
      "image/png": "[encoded data removed]",
      "text/plain": [
       "<matplotlib.figure.Figure at 0x1ca55141278>"
      ]
     },
     "metadata": {},
     "output_type": "display_data"
    }
   ],
   "source": [
    "import matplotlib.pyplot as plt\n",
    "estimated_linearmodel= linreg.intercept_ + linreg.coef_ * X\n",
    "plt.figure(figsize=(5,4))\n",
    "plt.scatter(X, Y, marker= 'o') #plot data points\n",
    "plt.plot(X, estimated_linearmodel, 'r-')\n",
    "plt.xlabel('Feature value (X)'); plt.ylabel('Target value (Y)')\n",
    "plt.show()"
   ]
  },
  {
   "cell_type": "markdown",
   "metadata": {},
   "source": [
    "B) Use the same 'Advertising' data set, and fit linear regression model that predicts Sales from TV, Radio, and Newspaper advertising using Sklearn linear_model module. What is the coefficients of the three features, and what is the MSE of the fitted model. \n",
    "\n",
    "Use random_state = 0 in train_test_split\n",
    "\n",
    "\n",
    "C) Repeat B when TV and Radio are used, but newspaper is not used in the model. What is the MSE in this case. "
   ]
  },
  {
   "cell_type": "code",
   "execution_count": 7,
   "metadata": {},
   "outputs": [
    {
     "name": "stdout",
     "output_type": "stream",
     "text": [
      "The intercept is:  2.89257005115\n",
      "The coefficient of TV feature is: [ 0.19900368  0.04416235  0.00116268]\n"
     ]
    }
   ],
   "source": [
    "%matplotlib inline\n",
    "import matplotlib.pyplot as plt\n",
    "import numpy as np\n",
    "from sklearn.model_selection import train_test_split\n",
    "from sklearn.linear_model import LinearRegression\n",
    "from sklearn.metrics import mean_squared_error\n",
    "\n",
    "AdvertisingData=read_csv('Advertising.csv')\n",
    "X = AdvertisingData[['Radio', 'TV','Newspaper']].values\n",
    "Y = AdvertisingData.Sales\n",
    "X_train, X_test, Y_train, Y_test= train_test_split(X, Y, random_state= 0)\n",
    "\n",
    "linreg= LinearRegression().fit(X_train, Y_train)\n",
    "print(\"The intercept is: \", linreg.intercept_)\n",
    "print(\"The coefficient of TV feature is:\",linreg.coef_)\n"
   ]
  },
  {
   "cell_type": "code",
   "execution_count": 13,
   "metadata": {},
   "outputs": [
    {
     "name": "stdout",
     "output_type": "stream",
     "text": [
      "mean square error 4.01249752292\n"
     ]
    }
   ],
   "source": [
    "from sklearn.metrics import mean_squared_error\n",
    "Target_predicted= linreg.predict(X_test)\n",
    "MSE=mean_squared_error(Y_test,Target_predicted)\n",
    "print('mean square error', MSE)"
   ]
  },
  {
   "cell_type": "markdown",
   "metadata": {},
   "source": [
    "#C"
   ]
  },
  {
   "cell_type": "code",
   "execution_count": 14,
   "metadata": {},
   "outputs": [
    {
     "name": "stdout",
     "output_type": "stream",
     "text": [
      "The intercept is:  2.9109237322\n",
      "The coefficient of TV feature is: [ 0.19946953  0.04419729]\n"
     ]
    }
   ],
   "source": [
    "X = AdvertisingData[['Radio', 'TV']].values\n",
    "Y = AdvertisingData.Sales\n",
    "X_train, X_test, Y_train, Y_test= train_test_split(X, Y, random_state= 0)\n",
    "\n",
    "linreg= LinearRegression().fit(X_train, Y_train)\n",
    "print(\"The intercept is: \", linreg.intercept_)\n",
    "print(\"The coefficient of TV feature is:\",linreg.coef_)"
   ]
  },
  {
   "cell_type": "code",
   "execution_count": 15,
   "metadata": {},
   "outputs": [
    {
     "name": "stdout",
     "output_type": "stream",
     "text": [
      "mean square error 3.99985266758\n"
     ]
    }
   ],
   "source": [
    "from sklearn.metrics import mean_squared_error\n",
    "Target_predicted= linreg.predict(X_test)\n",
    "MSE=mean_squared_error(Y_test,Target_predicted)\n",
    "print('mean square error', MSE)"
   ]
  },
  {
   "cell_type": "code",
   "execution_count": null,
   "metadata": {
    "collapsed": true
   },
   "outputs": [],
   "source": []
  }
 ],
 "metadata": {
  "kernelspec": {
   "display_name": "Python 3",
   "language": "python",
   "name": "python3"
  },
  "language_info": {
   "codemirror_mode": {
    "name": "ipython",
    "version": 3
   },
   "file_extension": ".py",
   "mimetype": "text/x-python",
   "name": "python",
   "nbconvert_exporter": "python",
   "pygments_lexer": "ipython3",
   "version": "3.6.3"
  }
 },
 "nbformat": 4,
 "nbformat_minor": 2
}
